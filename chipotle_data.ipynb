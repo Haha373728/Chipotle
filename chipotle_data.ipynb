{
 "cells": [
  {
   "cell_type": "code",
   "execution_count": 3,
   "id": "4969685e",
   "metadata": {},
   "outputs": [
    {
     "data": {
      "text/html": [
       "<div>\n",
       "<style scoped>\n",
       "    .dataframe tbody tr th:only-of-type {\n",
       "        vertical-align: middle;\n",
       "    }\n",
       "\n",
       "    .dataframe tbody tr th {\n",
       "        vertical-align: top;\n",
       "    }\n",
       "\n",
       "    .dataframe thead th {\n",
       "        text-align: right;\n",
       "    }\n",
       "</style>\n",
       "<table border=\"1\" class=\"dataframe\">\n",
       "  <thead>\n",
       "    <tr style=\"text-align: right;\">\n",
       "      <th></th>\n",
       "      <th>order_id</th>\n",
       "      <th>quantity</th>\n",
       "      <th>item_name</th>\n",
       "      <th>choice_description</th>\n",
       "      <th>item_price</th>\n",
       "    </tr>\n",
       "  </thead>\n",
       "  <tbody>\n",
       "    <tr>\n",
       "      <th>0</th>\n",
       "      <td>1</td>\n",
       "      <td>1</td>\n",
       "      <td>Chips and Fresh Tomato Salsa</td>\n",
       "      <td>NaN</td>\n",
       "      <td>$2.39</td>\n",
       "    </tr>\n",
       "    <tr>\n",
       "      <th>1</th>\n",
       "      <td>1</td>\n",
       "      <td>1</td>\n",
       "      <td>Izze</td>\n",
       "      <td>[Clementine]</td>\n",
       "      <td>$3.39</td>\n",
       "    </tr>\n",
       "    <tr>\n",
       "      <th>2</th>\n",
       "      <td>1</td>\n",
       "      <td>1</td>\n",
       "      <td>Nantucket Nectar</td>\n",
       "      <td>[Apple]</td>\n",
       "      <td>$3.39</td>\n",
       "    </tr>\n",
       "    <tr>\n",
       "      <th>3</th>\n",
       "      <td>1</td>\n",
       "      <td>1</td>\n",
       "      <td>Chips and Tomatillo-Green Chili Salsa</td>\n",
       "      <td>NaN</td>\n",
       "      <td>$2.39</td>\n",
       "    </tr>\n",
       "    <tr>\n",
       "      <th>4</th>\n",
       "      <td>2</td>\n",
       "      <td>2</td>\n",
       "      <td>Chicken Bowl</td>\n",
       "      <td>[Tomatillo-Red Chili Salsa (Hot), [Black Beans...</td>\n",
       "      <td>$16.98</td>\n",
       "    </tr>\n",
       "  </tbody>\n",
       "</table>\n",
       "</div>"
      ],
      "text/plain": [
       "   order_id  quantity                              item_name  \\\n",
       "0         1         1           Chips and Fresh Tomato Salsa   \n",
       "1         1         1                                   Izze   \n",
       "2         1         1                       Nantucket Nectar   \n",
       "3         1         1  Chips and Tomatillo-Green Chili Salsa   \n",
       "4         2         2                           Chicken Bowl   \n",
       "\n",
       "                                  choice_description item_price  \n",
       "0                                                NaN     $2.39   \n",
       "1                                       [Clementine]     $3.39   \n",
       "2                                            [Apple]     $3.39   \n",
       "3                                                NaN     $2.39   \n",
       "4  [Tomatillo-Red Chili Salsa (Hot), [Black Beans...    $16.98   "
      ]
     },
     "execution_count": 3,
     "metadata": {},
     "output_type": "execute_result"
    }
   ],
   "source": [
    "import pandas \n",
    "import seaborn\n",
    "import matplotlib.pyplot as plt \n",
    "url = \"https://raw.githubusercontent.com/justmarkham/DAT8/master/data/chipotle.tsv\"\n",
    "chipotle_data = pandas.read_csv(url, sep = '\\t')\n",
    "chipotle_data.head()\n",
    "\n"
   ]
  },
  {
   "cell_type": "code",
   "execution_count": 6,
   "id": "c8e8a993",
   "metadata": {},
   "outputs": [
    {
     "data": {
      "text/plain": [
       "Index(['order_id', 'quantity', 'item_name', 'choice_description',\n",
       "       'item_price'],\n",
       "      dtype='object')"
      ]
     },
     "execution_count": 6,
     "metadata": {},
     "output_type": "execute_result"
    }
   ],
   "source": [
    "chipotle_data.columns"
   ]
  },
  {
   "cell_type": "code",
   "execution_count": 8,
   "id": "19b1c854",
   "metadata": {},
   "outputs": [
    {
     "data": {
      "text/html": [
       "<div>\n",
       "<style scoped>\n",
       "    .dataframe tbody tr th:only-of-type {\n",
       "        vertical-align: middle;\n",
       "    }\n",
       "\n",
       "    .dataframe tbody tr th {\n",
       "        vertical-align: top;\n",
       "    }\n",
       "\n",
       "    .dataframe thead th {\n",
       "        text-align: right;\n",
       "    }\n",
       "</style>\n",
       "<table border=\"1\" class=\"dataframe\">\n",
       "  <thead>\n",
       "    <tr style=\"text-align: right;\">\n",
       "      <th></th>\n",
       "      <th>quantity</th>\n",
       "    </tr>\n",
       "    <tr>\n",
       "      <th>item_name</th>\n",
       "      <th></th>\n",
       "    </tr>\n",
       "  </thead>\n",
       "  <tbody>\n",
       "    <tr>\n",
       "      <th>Chicken Bowl</th>\n",
       "      <td>761</td>\n",
       "    </tr>\n",
       "  </tbody>\n",
       "</table>\n",
       "</div>"
      ],
      "text/plain": [
       "              quantity\n",
       "item_name             \n",
       "Chicken Bowl       761"
      ]
     },
     "execution_count": 8,
     "metadata": {},
     "output_type": "execute_result"
    }
   ],
   "source": [
    "chipotle_data.groupby(\"item_name\").agg({\n",
    "    \"quantity\": \"sum\"\n",
    "}).sort_values(\"quantity\", ascending = False) [:1]"
   ]
  },
  {
   "cell_type": "code",
   "execution_count": 9,
   "id": "c6be4feb",
   "metadata": {},
   "outputs": [
    {
     "name": "stdout",
     "output_type": "stream",
     "text": [
      "Total Revenue: $39237.02\n"
     ]
    },
    {
     "name": "stderr",
     "output_type": "stream",
     "text": [
      "<>:1: SyntaxWarning: invalid escape sequence '\\$'\n",
      "<>:1: SyntaxWarning: invalid escape sequence '\\$'\n",
      "/var/folders/05/xg7lz7vs0glfp_csb2xvht0c0000gn/T/ipykernel_94074/4152771712.py:1: SyntaxWarning: invalid escape sequence '\\$'\n",
      "  chipotle_data['item_price'] = chipotle_data['item_price'].replace('[\\$]', '', regex=True).astype(float)\n"
     ]
    }
   ],
   "source": [
    "chipotle_data['item_price'] = chipotle_data['item_price'].replace('[\\$]', '', regex=True).astype(float)\n",
    "revenue = (chipotle_data['quantity'] * chipotle_data['item_price']).sum()\n",
    "\n",
    "print(f\"Total Revenue: ${revenue:.2f}\")"
   ]
  },
  {
   "cell_type": "code",
   "execution_count": 15,
   "id": "8ef97ce9",
   "metadata": {},
   "outputs": [
    {
     "name": "stdout",
     "output_type": "stream",
     "text": [
      "chipotle's total order = 4972\n"
     ]
    }
   ],
   "source": [
    "total_order = (chipotle_data[\"quantity\"]).sum()\n",
    "print(\"chipotle's total order =\", total_order)"
   ]
  },
  {
   "cell_type": "code",
   "execution_count": 29,
   "id": "7a0ca6ac",
   "metadata": {},
   "outputs": [
    {
     "name": "stdout",
     "output_type": "stream",
     "text": [
      "item over 10:       order_id  quantity           item_name  \\\n",
      "4            2         2        Chicken Bowl   \n",
      "5            3         1        Chicken Bowl   \n",
      "7            4         1       Steak Burrito   \n",
      "13           7         1        Chicken Bowl   \n",
      "23          12         1     Chicken Burrito   \n",
      "...        ...       ...                 ...   \n",
      "4610      1830         1       Steak Burrito   \n",
      "4611      1830         1      Veggie Burrito   \n",
      "4617      1833         1       Steak Burrito   \n",
      "4618      1833         1       Steak Burrito   \n",
      "4619      1834         1  Chicken Salad Bowl   \n",
      "\n",
      "                                     choice_description  item_price  \n",
      "4     [Tomatillo-Red Chili Salsa (Hot), [Black Beans...       16.98  \n",
      "5     [Fresh Tomato Salsa (Mild), [Rice, Cheese, Sou...       10.98  \n",
      "7     [Tomatillo Red Chili Salsa, [Fajita Vegetables...       11.75  \n",
      "13    [Fresh Tomato Salsa, [Fajita Vegetables, Rice,...       11.25  \n",
      "23    [[Tomatillo-Green Chili Salsa (Medium), Tomati...       10.98  \n",
      "...                                                 ...         ...  \n",
      "4610  [Fresh Tomato Salsa, [Rice, Sour Cream, Cheese...       11.75  \n",
      "4611  [Tomatillo Green Chili Salsa, [Rice, Fajita Ve...       11.25  \n",
      "4617  [Fresh Tomato Salsa, [Rice, Black Beans, Sour ...       11.75  \n",
      "4618  [Fresh Tomato Salsa, [Rice, Sour Cream, Cheese...       11.75  \n",
      "4619  [Fresh Tomato Salsa, [Fajita Vegetables, Pinto...       11.25  \n",
      "\n",
      "[1130 rows x 5 columns]\n"
     ]
    }
   ],
   "source": [
    "item_more_than_10 = chipotle_data[chipotle_data[\"item_price\"] > 10]\n",
    "print(\"item over 10:\", item_more_than_10)"
   ]
  },
  {
   "cell_type": "code",
   "execution_count": 31,
   "id": "c00e9edd",
   "metadata": {},
   "outputs": [
    {
     "name": "stdout",
     "output_type": "stream",
     "text": [
      "['Chips and Fresh Tomato Salsa' 'Izze' 'Nantucket Nectar'\n",
      " 'Chips and Tomatillo-Green Chili Salsa' 'Chicken Bowl' 'Side of Chips'\n",
      " 'Steak Burrito' 'Steak Soft Tacos' 'Chips and Guacamole'\n",
      " 'Chicken Crispy Tacos' 'Chicken Soft Tacos' 'Chicken Burrito'\n",
      " 'Canned Soda' 'Barbacoa Burrito' 'Carnitas Burrito' 'Carnitas Bowl'\n",
      " 'Bottled Water' 'Chips and Tomatillo Green Chili Salsa' 'Barbacoa Bowl'\n",
      " 'Chips' 'Chicken Salad Bowl' 'Steak Bowl' 'Barbacoa Soft Tacos'\n",
      " 'Veggie Burrito' 'Veggie Bowl' 'Steak Crispy Tacos'\n",
      " 'Chips and Tomatillo Red Chili Salsa' 'Barbacoa Crispy Tacos'\n",
      " 'Veggie Salad Bowl' 'Chips and Roasted Chili-Corn Salsa'\n",
      " 'Chips and Roasted Chili Corn Salsa' 'Carnitas Soft Tacos'\n",
      " 'Chicken Salad' 'Canned Soft Drink' 'Steak Salad Bowl'\n",
      " '6 Pack Soft Drink' 'Chips and Tomatillo-Red Chili Salsa' 'Bowl'\n",
      " 'Burrito' 'Crispy Tacos' 'Carnitas Crispy Tacos' 'Steak Salad'\n",
      " 'Chips and Mild Fresh Tomato Salsa' 'Veggie Soft Tacos'\n",
      " 'Carnitas Salad Bowl' 'Barbacoa Salad Bowl' 'Salad' 'Veggie Crispy Tacos'\n",
      " 'Veggie Salad' 'Carnitas Salad']\n"
     ]
    }
   ],
   "source": [
    "unique_item = chipotle_data[\"item_name\"].unique()\n",
    "print(unique_item)"
   ]
  },
  {
   "cell_type": "code",
   "execution_count": 42,
   "id": "caf7be52",
   "metadata": {},
   "outputs": [
    {
     "data": {
      "image/png": "[encoded data removed]",
      "text/plain": [
       "<Figure size 640x480 with 1 Axes>"
      ]
     },
     "metadata": {},
     "output_type": "display_data"
    }
   ],
   "source": [
    "top_5 = (\n",
    "    chipotle_data\n",
    "    .groupby(\"item_name\")\n",
    "    .agg({\"quantity\": \"sum\"})\n",
    "    .sort_values(\"quantity\", ascending=False)\n",
    "    .head(5)\n",
    ")\n",
    "\n",
    "top_5.plot(\n",
    "    kind=\"bar\",\n",
    "    color=\"skyblue\",\n",
    "    legend=False\n",
    "    \n",
    ")\n",
    "\n",
    "plt.title(\"Top 5 Most Sold Items\")\n",
    "plt.xlabel(\"Item Name\")\n",
    "plt.ylabel(\"Total Quantity Sold\")\n",
    "plt.xticks(rotation=45, ha=\"right\")\n",
    "plt.tight_layout()\n",
    "plt.show()"
   ]
  },
  {
   "cell_type": "code",
   "execution_count": null,
   "id": "0206d154",
   "metadata": {},
   "outputs": [],
   "source": [
    "top_10_orders = chipotle_data.groupby(\"item_name\")[]"
   ]
  }
 ],
 "metadata": {
  "kernelspec": {
   "display_name": "Python 3",
   "language": "python",
   "name": "python3"
  },
  "language_info": {
   "codemirror_mode": {
    "name": "ipython",
    "version": 3
   },
   "file_extension": ".py",
   "mimetype": "text/x-python",
   "name": "python",
   "nbconvert_exporter": "python",
   "pygments_lexer": "ipython3",
   "version": "3.13.5"
  }
 },
 "nbformat": 4,
 "nbformat_minor": 5
}
